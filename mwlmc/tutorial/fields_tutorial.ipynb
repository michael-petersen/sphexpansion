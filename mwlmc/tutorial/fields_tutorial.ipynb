{
 "cells": [
  {
   "cell_type": "code",
   "execution_count": 1,
   "id": "5f9c0ebf-53d1-4a39-962a-2530bdef428f",
   "metadata": {
    "execution": {
     "iopub.execute_input": "2022-05-04T22:10:54.990643Z",
     "iopub.status.busy": "2022-05-04T22:10:54.990338Z",
     "iopub.status.idle": "2022-05-04T22:10:55.642181Z",
     "shell.execute_reply": "2022-05-04T22:10:55.641905Z",
     "shell.execute_reply.started": "2022-05-04T22:10:54.990559Z"
    },
    "tags": []
   },
   "outputs": [
    {
     "data": {
      "text/plain": [
       "<module 'mwlmc_plot' from '/Users/sl01701/Documents/Projects/code/mwlmc/tutorial/mwlmc_plot.py'>"
      ]
     },
     "execution_count": 1,
     "metadata": {},
     "output_type": "execute_result"
    }
   ],
   "source": [
    "### import packages here\n",
    "\n",
    "import numpy as np\n",
    "import matplotlib.pyplot as plt\n",
    "from matplotlib.colors import LogNorm\n",
    "\n",
    "import mwlmc\n",
    "\n",
    "import mwlmc_util\n",
    "import mwlmc_plot\n",
    "\n",
    "import importlib\n",
    "importlib.reload(mwlmc_util)\n",
    "importlib.reload(mwlmc_plot)\n"
   ]
  },
  {
   "cell_type": "markdown",
   "id": "5c8b39d1-b3c0-4bce-84db-3aad432fc2bf",
   "metadata": {
    "tags": []
   },
   "source": [
    "### Introduction "
   ]
  },
  {
   "cell_type": "markdown",
   "id": "6ff7c724-c23f-4c77-b1ab-f68088c42311",
   "metadata": {},
   "source": [
    "The simulations consists of expansion of the Milky Way stellar component \n",
    "(`mwd`), the Milky Way halo (`mwhalo`), and the Large Magellanic Cloud halo \n",
    "(`lmc`). In this tutorial, we present how we can access the potential, \n",
    "densities, and forces of the different expansions. A tutorial on how to run \n",
    "orbits incthe full simulation can be found in the \n",
    "[orbits tutorial](orbits_tutorial.ipynb). The advantage of this type of \n",
    "simulation is that we can select different moments (such as the dipole or \n",
    "quadrupole), and see how this affects all these outputs. For a more detailed \n",
    "explanation and example, see e.g. Lilleengen et al. 2022. We also provide the \n",
    "option to run orbits in the static, unperturbed Milky Way potential appoximating\n",
    "the one from [Erkal et al. 2019](https://ui.adsabs.harvard.edu/link_gateway/2019MNRAS.487.2685E/doi:10.1093/mnras/stz1371).\n",
    "\n",
    "\n",
    "Let's get started. To access the simulation, first, we need to initialize the \n",
    "expansions. Afterwards, the functions will be callable via the Model instance:"
   ]
  },
  {
   "cell_type": "code",
   "execution_count": 2,
   "id": "34f0d797-9bc8-4368-a3a4-225ce418bf59",
   "metadata": {
    "execution": {
     "iopub.execute_input": "2022-05-04T22:10:55.642849Z",
     "iopub.status.busy": "2022-05-04T22:10:55.642753Z",
     "iopub.status.idle": "2022-05-04T22:10:56.212258Z",
     "shell.execute_reply": "2022-05-04T22:10:56.211874Z",
     "shell.execute_reply.started": "2022-05-04T22:10:55.642837Z"
    },
    "tags": []
   },
   "outputs": [
    {
     "name": "stderr",
     "output_type": "stream",
     "text": [
      "sphcache::read_sph_cache: trying to read cached table . . . success!!\n",
      "sphcache::read_sph_cache: trying to read cached table . . . success!!\n",
      "cylcache::read_cyl_cache: trying to read cached table . . . success!!\n"
     ]
    },
    {
     "name": "stdout",
     "output_type": "stream",
     "text": [
      "Initialising MW ... \n",
      "sphcoefs::read_coef_file: reading coefficients from file . . . success!!\n",
      "Initialising LMC ... \n",
      "sphcoefs::read_coef_file: reading coefficients from file . . . success!!\n",
      "Initialising MW disc ... \n",
      "cylcoefs::read_coef_file: reading NUMT, LMAX, NORDER from file . . . success!!\n"
     ]
    }
   ],
   "source": [
    "Model = mwlmc.MWLMC()"
   ]
  },
  {
   "cell_type": "markdown",
   "id": "9e003d76-c1ad-4e71-9100-d710db6dafa9",
   "metadata": {},
   "source": [
    "### Potential, density, and forces"
   ]
  },
  {
   "cell_type": "markdown",
   "id": "a0f9d725-ee4b-4365-8125-2766dcb89787",
   "metadata": {},
   "source": [
    "Let's first have a look at the simulation. We can access densities of both \n",
    "halos, the potentials of all three components, and forces of all three \n",
    "components. This can be done at a single position, or with an array of \n",
    "positions. \n",
    "\n",
    "**The resolution of the disc is lowered due to the mazimum git file size. Analyses of the inner Milky Way might not be reliable in this package. To demonstrate this, an example of an orbit with Sun-like \n",
    "initial conditions is shown in the [orbits tutorial](orbits_tutorial.ipynb).**"
   ]
  },
  {
   "cell_type": "markdown",
   "id": "f115d622-816e-4b50-a51f-d559b1b92b38",
   "metadata": {},
   "source": [
    "#### Getting these properties at one position "
   ]
  },
  {
   "cell_type": "markdown",
   "id": "04cb8614-dc8a-47e7-af29-d18ff77ee8dc",
   "metadata": {},
   "source": [
    "The forces, density, and potential are all returned by the fields \n",
    "functions: `mwhalo_fields`, `lmc_fields`, `mwd_fields`. Let's look at the \n",
    "`mwhalo` field at the Sun's position today:"
   ]
  },
  {
   "cell_type": "code",
   "execution_count": 3,
   "id": "e2231684-2623-444c-849b-842e2fe330fb",
   "metadata": {
    "execution": {
     "iopub.execute_input": "2022-05-04T22:10:56.214385Z",
     "iopub.status.busy": "2022-05-04T22:10:56.214276Z",
     "iopub.status.idle": "2022-05-04T22:10:56.219058Z",
     "shell.execute_reply": "2022-05-04T22:10:56.218155Z",
     "shell.execute_reply.started": "2022-05-04T22:10:56.214372Z"
    },
    "tags": []
   },
   "outputs": [
    {
     "name": "stdout",
     "output_type": "stream",
     "text": [
      "f_x = 2377.41 [km/s^2]\n",
      "f_y = -77.14 [km/s^2]\n",
      "f_z = -370.68 [km/s^2]\n",
      "rho = 9.51e-03 [Msun/pc^3]\n",
      "Phi = -1.240143e+05 [(km/s)^2]\n"
     ]
    }
   ],
   "source": [
    "t = 0.\n",
    "x, y, z = -8.27, 0., 0.\n",
    "fx, fy, fz, dens, pot = Model.mwhalo_fields(t, x, y, z)\n",
    "mwlmc_util.print_field_info(fx, fy, fz, dens, pot)"
   ]
  },
  {
   "cell_type": "markdown",
   "id": "7b2490ba-0849-4035-aea7-3ca583e44979",
   "metadata": {},
   "source": [
    "These are the values at the Sun's position in the fully live expansion (by\n",
    "default). Let's see whether there is a difference in the monopole. We can select different harmonic moments via the `mwdhharmonicflag`. A more detailed \n",
    "explanation is given further below."
   ]
  },
  {
   "cell_type": "code",
   "execution_count": 4,
   "id": "eecd04fe-3e2b-4f84-86ee-35fde96dc31e",
   "metadata": {
    "execution": {
     "iopub.execute_input": "2022-05-04T22:10:56.220280Z",
     "iopub.status.busy": "2022-05-04T22:10:56.220175Z",
     "iopub.status.idle": "2022-05-04T22:10:56.239052Z",
     "shell.execute_reply": "2022-05-04T22:10:56.238191Z",
     "shell.execute_reply.started": "2022-05-04T22:10:56.220268Z"
    },
    "tags": []
   },
   "outputs": [
    {
     "name": "stdout",
     "output_type": "stream",
     "text": [
      "f_x = 2377.82 [km/s^2]\n",
      "f_y = -0.00 [km/s^2]\n",
      "f_z = -0.00 [km/s^2]\n",
      "rho = 8.98e-03 [Msun/pc^3]\n",
      "Phi = -1.239517e+05 [(km/s)^2]\n"
     ]
    }
   ],
   "source": [
    "t = 0.\n",
    "x, y, z = -8.27, 0., 0.\n",
    "fx, fy, fz, dens, pot = Model.mwhalo_fields(t, x, y, z, mwhharmonicflag=0)\n",
    "mwlmc_util.print_field_info(fx, fy, fz, dens, pot)"
   ]
  },
  {
   "cell_type": "markdown",
   "id": "80f4d997-daf5-47ea-86c5-f69097198950",
   "metadata": {},
   "source": [
    "We can immediately see that the deformations added forces in the $y$- and \n",
    "$z$-direction. \n",
    "\n",
    "We can also get these informations at other times. $t=0$ Gyr is at the current \n",
    "time, and the simulation allows us to look back in time (i.e. negative times).\n",
    "Let's get the properties 1 Gyr ago:\n"
   ]
  },
  {
   "cell_type": "code",
   "execution_count": 5,
   "id": "b522773d-7ec0-48dd-8539-625281f01e35",
   "metadata": {
    "execution": {
     "iopub.execute_input": "2022-05-04T22:10:56.240766Z",
     "iopub.status.busy": "2022-05-04T22:10:56.240236Z",
     "iopub.status.idle": "2022-05-04T22:10:56.246047Z",
     "shell.execute_reply": "2022-05-04T22:10:56.245350Z",
     "shell.execute_reply.started": "2022-05-04T22:10:56.240715Z"
    },
    "tags": []
   },
   "outputs": [
    {
     "name": "stdout",
     "output_type": "stream",
     "text": [
      "f_x = 2515.00 [km/s^2]\n",
      "f_y = 24.71 [km/s^2]\n",
      "f_z = -22.16 [km/s^2]\n",
      "rho = 1.00e-02 [Msun/pc^3]\n",
      "Phi = -1.245098e+05 [(km/s)^2]\n"
     ]
    }
   ],
   "source": [
    "t = -1.\n",
    "x, y, z = -8.27, 0., 0.\n",
    "fx, fy, fz, dens, pot = Model.mwhalo_fields(t, x, y, z)\n",
    "mwlmc_util.print_field_info(fx, fy, fz, dens, pot)"
   ]
  },
  {
   "cell_type": "markdown",
   "id": "be1df6aa-a22b-46d8-8f2b-96b59c4bfde1",
   "metadata": {},
   "source": [
    "We see a stark change in the force in $z$-directions. It seems that the \n",
    "deformations were the strongest within the last Gyr."
   ]
  },
  {
   "cell_type": "markdown",
   "id": "4853fe00-7b2f-45c8-a374-2601953a0a91",
   "metadata": {},
   "source": [
    "#### Evaluating these properties for arrays "
   ]
  },
  {
   "cell_type": "markdown",
   "id": "1ad5901a-db35-48e9-95ba-385e8fd61fd6",
   "metadata": {},
   "source": [
    "These properties are often more insightful for an array of positions. We can \n",
    "e.g. get these values over a grid in the $y-z$-plane. We put in a vector for \n",
    "each direction:\n"
   ]
  },
  {
   "cell_type": "code",
   "execution_count": 6,
   "id": "fd0ec348-d522-456a-a018-bdb0f1693a8f",
   "metadata": {
    "execution": {
     "iopub.execute_input": "2022-05-04T22:10:56.246760Z",
     "iopub.status.busy": "2022-05-04T22:10:56.246647Z",
     "iopub.status.idle": "2022-05-04T22:10:56.295150Z",
     "shell.execute_reply": "2022-05-04T22:10:56.294643Z",
     "shell.execute_reply.started": "2022-05-04T22:10:56.246747Z"
    },
    "tags": []
   },
   "outputs": [],
   "source": [
    "# make grid\n",
    "y = np.arange(-50, 51, 5)\n",
    "z = np.arange(-50, 51, 5)\n",
    "Ym, Zm = np.meshgrid(y, z)\n",
    "Y, Z =  Ym.ravel(), Zm.ravel()\n",
    "X = np.zeros(len(Y))"
   ]
  },
  {
   "cell_type": "code",
   "execution_count": 7,
   "id": "950db223-1aa6-4e69-bb12-489eeef76a3f",
   "metadata": {
    "execution": {
     "iopub.execute_input": "2022-05-04T22:10:56.295916Z",
     "iopub.status.busy": "2022-05-04T22:10:56.295790Z",
     "iopub.status.idle": "2022-05-04T22:10:56.302338Z",
     "shell.execute_reply": "2022-05-04T22:10:56.301762Z",
     "shell.execute_reply.started": "2022-05-04T22:10:56.295900Z"
    },
    "tags": []
   },
   "outputs": [],
   "source": [
    "t = 0.\n",
    "fields = Model.mwhalo_fields(t, X, Y, Z)\n",
    "\n",
    "dens = fields[:,3]\n",
    "dens = dens.reshape((len(y), len(z)))"
   ]
  },
  {
   "cell_type": "markdown",
   "id": "f6143fdf-c324-4ca6-911d-d21b11cef1eb",
   "metadata": {},
   "source": [
    "Let's have a look (we supplied some simple plotting functions with \n",
    "`mwlmc_plots`, adapt as you need!)"
   ]
  },
  {
   "cell_type": "code",
   "execution_count": 8,
   "id": "67da6b5f-0fe4-4afe-8ca6-a8d5b0c7fb87",
   "metadata": {
    "execution": {
     "iopub.execute_input": "2022-05-04T22:10:56.303188Z",
     "iopub.status.busy": "2022-05-04T22:10:56.303032Z",
     "iopub.status.idle": "2022-05-04T22:10:56.757219Z",
     "shell.execute_reply": "2022-05-04T22:10:56.756874Z",
     "shell.execute_reply.started": "2022-05-04T22:10:56.303173Z"
    },
    "tags": []
   },
   "outputs": [
    {
     "data": {
      "image/png": "[encoded data removed]",
      "text/plain": [
       "<Figure size 432x288 with 2 Axes>"
      ]
     },
     "metadata": {
      "needs_background": "light"
     },
     "output_type": "display_data"
    }
   ],
   "source": [
    "fig, ax = mwlmc_plot.plot_density(Ym, Zm, dens,\n",
    "                                  cmap = plt.cm.inferno, \n",
    "                                  norm = LogNorm())\n",
    "plt.show()"
   ]
  },
  {
   "cell_type": "markdown",
   "id": "6cb9ee9b-526c-4f94-a13e-9a66dca9d20b",
   "metadata": {},
   "source": [
    "Again, lets compare to the monopole: "
   ]
  },
  {
   "cell_type": "code",
   "execution_count": 9,
   "id": "72831450-8585-4f16-9f16-1767a91d4dd8",
   "metadata": {
    "execution": {
     "iopub.execute_input": "2022-05-04T22:10:56.757936Z",
     "iopub.status.busy": "2022-05-04T22:10:56.757844Z",
     "iopub.status.idle": "2022-05-04T22:10:57.017856Z",
     "shell.execute_reply": "2022-05-04T22:10:57.017377Z",
     "shell.execute_reply.started": "2022-05-04T22:10:56.757925Z"
    },
    "tags": []
   },
   "outputs": [
    {
     "data": {
      "image/png": "[encoded data removed]",
      "text/plain": [
       "<Figure size 432x288 with 2 Axes>"
      ]
     },
     "metadata": {
      "needs_background": "light"
     },
     "output_type": "display_data"
    }
   ],
   "source": [
    "t = 0.\n",
    "fields = Model.mwhalo_fields(t, X, Y, Z, \n",
    "                             #mwhharmonicflag=0\n",
    "                            )\n",
    "\n",
    "dens = fields[:,3]\n",
    "dens = dens.reshape((len(y), len(z)))\n",
    "\n",
    "fig, ax = mwlmc_plot.plot_density(Ym, Zm, dens, \n",
    "                                  cmap = plt.cm.inferno, \n",
    "                                  norm = LogNorm())\n",
    "plt.show()"
   ]
  },
  {
   "cell_type": "markdown",
   "id": "7318bb65-e8be-464c-9c4b-984f764f7bcc",
   "metadata": {},
   "source": [
    "The same way, you can calculate the potential field (with `pot = fields[:,4]`) \n",
    "or the forces."
   ]
  },
  {
   "cell_type": "code",
   "execution_count": 10,
   "id": "ec66bee8-680e-4c50-bced-dbaadd69bbd8",
   "metadata": {
    "execution": {
     "iopub.execute_input": "2022-05-04T22:10:57.018666Z",
     "iopub.status.busy": "2022-05-04T22:10:57.018518Z",
     "iopub.status.idle": "2022-05-04T22:10:57.162501Z",
     "shell.execute_reply": "2022-05-04T22:10:57.162002Z",
     "shell.execute_reply.started": "2022-05-04T22:10:57.018651Z"
    },
    "tags": []
   },
   "outputs": [
    {
     "data": {
      "image/png": "[encoded data removed]",
      "text/plain": [
       "<Figure size 432x288 with 2 Axes>"
      ]
     },
     "metadata": {
      "needs_background": "light"
     },
     "output_type": "display_data"
    }
   ],
   "source": [
    "# get the live model fields again\n",
    "fields = Model.mwhalo_fields(t, X, Y, Z)\n",
    "\n",
    "pot = fields[:,4]\n",
    "pot = pot.reshape((len(y), len(z)))\n",
    "\n",
    "fig, ax = mwlmc_plot.plot_potential(Ym, Zm, pot, cmap = plt.cm.inferno_r)\n",
    "plt.show()"
   ]
  },
  {
   "cell_type": "markdown",
   "id": "c58a1570-b9b3-4a28-8acf-44f1c5531ec6",
   "metadata": {},
   "source": [
    "#### Choosing the harmonic moment of the deformation"
   ]
  },
  {
   "cell_type": "markdown",
   "id": "1150bc95-4ab0-4ff4-82a8-ab9316773615",
   "metadata": {},
   "source": [
    "The same way, we can get forces, potential, and density for the LMC. Let's look\n",
    "at its density in different spherical harmonic moments. For this, we can use \n",
    "the `lmcharmonicflag` for the LMC (and `mwhharmonicflag` for the `mwhalo` and \n",
    "`mwdharmonicflag` for the `mwd`). These flags are unique to the moments we want\n",
    "to choose (by default, the fully live versions are selected). We can select \n",
    "up to the $l=6$ order in any combination we want (with the monopole always being\n",
    "selected). The `mwlmc_util.get_harmonic_flag` function returns the flag for our \n",
    "selection. If we e.g. want to choose only the even moments $l=(2,4,6)$ we can \n",
    "call `flag = mwlmc_util.get_harmonic_flag([2,4,6])`."
   ]
  },
  {
   "cell_type": "code",
   "execution_count": 11,
   "id": "b0eb81e4-c4f6-433f-95a6-3ccac5677279",
   "metadata": {
    "execution": {
     "iopub.execute_input": "2022-05-04T22:10:57.163280Z",
     "iopub.status.busy": "2022-05-04T22:10:57.163191Z",
     "iopub.status.idle": "2022-05-04T22:10:57.165783Z",
     "shell.execute_reply": "2022-05-04T22:10:57.165205Z",
     "shell.execute_reply.started": "2022-05-04T22:10:57.163269Z"
    },
    "tags": []
   },
   "outputs": [
    {
     "name": "stdout",
     "output_type": "stream",
     "text": [
      "42\n"
     ]
    }
   ],
   "source": [
    "flag = mwlmc_util.get_harmonic_flag([2,4,6])\n",
    "print(flag)"
   ]
  },
  {
   "cell_type": "markdown",
   "id": "46d5eaf1-cfd4-409b-83ab-5ac51a1a2cb2",
   "metadata": {},
   "source": [
    "The flag for the monopole is $0$, the flag for the dipole is one, the flag for \n",
    "the quadrupole is $2$. The flag for combining dipole and quadrupole is $3$. \n",
    "For all higher flag best use the function. The flag for the live potential is \n",
    "$63$ or if the harmonic flag is not specified."
   ]
  },
  {
   "cell_type": "markdown",
   "id": "62aa7fb8-c838-47ef-a072-2c4cd03b2780",
   "metadata": {},
   "source": [
    "Let's look at the densities of the LMC's monopole, mono+dipole, mono+quadrupole,\n",
    "and the live LMC. We need to select flags accordingly, and then can calculate \n",
    "the fields and plot the densities:"
   ]
  },
  {
   "cell_type": "code",
   "execution_count": 12,
   "id": "3dbff190-ad86-40a1-a405-a5de1ffbc955",
   "metadata": {
    "execution": {
     "iopub.execute_input": "2022-05-04T22:10:57.172170Z",
     "iopub.status.busy": "2022-05-04T22:10:57.171920Z",
     "iopub.status.idle": "2022-05-04T22:10:58.295542Z",
     "shell.execute_reply": "2022-05-04T22:10:58.295256Z",
     "shell.execute_reply.started": "2022-05-04T22:10:57.172154Z"
    },
    "tags": []
   },
   "outputs": [
    {
     "name": "stdout",
     "output_type": "stream",
     "text": [
      "monopole\n"
     ]
    },
    {
     "data": {
      "image/png": "[encoded data removed]",
      "text/plain": [
       "<Figure size 432x288 with 2 Axes>"
      ]
     },
     "metadata": {
      "needs_background": "light"
     },
     "output_type": "display_data"
    },
    {
     "name": "stdout",
     "output_type": "stream",
     "text": [
      "mono+dipole\n"
     ]
    },
    {
     "data": {
      "image/png": "[encoded data removed]",
      "text/plain": [
       "<Figure size 432x288 with 2 Axes>"
      ]
     },
     "metadata": {
      "needs_background": "light"
     },
     "output_type": "display_data"
    },
    {
     "name": "stdout",
     "output_type": "stream",
     "text": [
      "mono+quadrupole\n"
     ]
    },
    {
     "data": {
      "image/png": "[encoded data removed]",
      "text/plain": [
       "<Figure size 432x288 with 2 Axes>"
      ]
     },
     "metadata": {
      "needs_background": "light"
     },
     "output_type": "display_data"
    },
    {
     "name": "stdout",
     "output_type": "stream",
     "text": [
      "live\n"
     ]
    },
    {
     "data": {
      "image/png": "[encoded data removed]",
      "text/plain": [
       "<Figure size 432x288 with 2 Axes>"
      ]
     },
     "metadata": {
      "needs_background": "light"
     },
     "output_type": "display_data"
    }
   ],
   "source": [
    "l_select = [0, 1, 2] \n",
    "moments = ['monopole', 'mono+dipole', 'mono+quadrupole']\n",
    "t=0.\n",
    "\n",
    "# loop over the different moments\n",
    "for l in l_select:\n",
    "    print(moments[l])\n",
    "    flag = mwlmc_util.get_harmonic_flag([l])\n",
    "    fields = Model.lmc_fields(t, X, Y, Z, lmcharmonicflag=flag)\n",
    "\n",
    "    dens = fields[:,3]\n",
    "    dens = dens.reshape((len(y), len(z)))\n",
    "\n",
    "    fig, ax = mwlmc_plot.plot_density(Ym, Zm, dens,\n",
    "                                      cmap = plt.cm.inferno, \n",
    "                                      norm = LogNorm())\n",
    "    plt.show()\n",
    "\n",
    "# and now the live LMC\n",
    "print('live')\n",
    "fields = Model.lmc_fields(t, X, Y, Z)\n",
    "\n",
    "dens = fields[:,3]\n",
    "dens = dens.reshape((len(y), len(z)))\n",
    "\n",
    "fig, ax = mwlmc_plot.plot_density(Ym, Zm, dens,\n",
    "                                  cmap = plt.cm.inferno, \n",
    "                                  norm = LogNorm())\n",
    "plt.show()\n",
    "\n",
    "\n"
   ]
  },
  {
   "cell_type": "markdown",
   "id": "7d122d84-9bde-4e58-8b4c-d5aa29e41b1e",
   "metadata": {},
   "source": [
    "The LMC's deformations resemble the quadrupole, but there is still a difference\n",
    "that needs higher moments for its explanation!"
   ]
  },
  {
   "cell_type": "markdown",
   "id": "f31c72af-d6d4-4af6-8d5f-964d07fe926d",
   "metadata": {},
   "source": [
    "**Note**: even though it follows the same syntax, the densities for the MW \n",
    "stellar component are not implemented yet."
   ]
  },
  {
   "cell_type": "markdown",
   "id": "1434490b-1c09-48ac-8cf6-c603953d9f88",
   "metadata": {},
   "source": [
    "#### Combined forces relative to the center of the stellar component"
   ]
  },
  {
   "cell_type": "markdown",
   "id": "7a9b0ef2-6f2a-4d04-86a5-fdeb0bf400c1",
   "metadata": {},
   "source": [
    "Now we want to extract the forces from all components (relative to the MW \n",
    "center). We can use the `all_forces` function for this, again either at one \n",
    "position or over an array. Here, all three harmonic flags can be set."
   ]
  },
  {
   "cell_type": "code",
   "execution_count": 13,
   "id": "f816d8d2-dd38-4053-a381-e3a6d29a8c21",
   "metadata": {
    "execution": {
     "iopub.execute_input": "2022-05-04T22:10:58.296086Z",
     "iopub.status.busy": "2022-05-04T22:10:58.295998Z",
     "iopub.status.idle": "2022-05-04T22:10:58.414661Z",
     "shell.execute_reply": "2022-05-04T22:10:58.414332Z",
     "shell.execute_reply.started": "2022-05-04T22:10:58.296074Z"
    },
    "tags": []
   },
   "outputs": [
    {
     "data": {
      "image/png": "[encoded data removed]",
      "text/plain": [
       "<Figure size 432x288 with 2 Axes>"
      ]
     },
     "metadata": {
      "needs_background": "light"
     },
     "output_type": "display_data"
    }
   ],
   "source": [
    "forces = Model.all_forces(t=0, x=np.full(len(Y), 0.0), y=Y, z=Z)\n",
    "fx, fy, fz = forces[:,0], forces[:,1], forces[:,2]\n",
    "\n",
    "# Let's have a look at the z-force\n",
    "fz = fz.reshape((len(y), len(z)))\n",
    "\n",
    "fig, ax = mwlmc_plot.plot_forces(Ym, Zm, fz,\n",
    "                                 cmap = plt.cm.inferno)\n",
    "\n",
    "plt.show()"
   ]
  }
 ],
 "metadata": {
  "kernelspec": {
   "display_name": "Python 3 (ipykernel)",
   "language": "python",
   "name": "python3"
  },
  "language_info": {
   "codemirror_mode": {
    "name": "ipython",
    "version": 3
   },
   "file_extension": ".py",
   "mimetype": "text/x-python",
   "name": "python",
   "nbconvert_exporter": "python",
   "pygments_lexer": "ipython3",
   "version": "3.8.12"
  }
 },
 "nbformat": 4,
 "nbformat_minor": 5
}
